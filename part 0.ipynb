{
 "cells": [
  {
   "cell_type": "code",
   "execution_count": 2,
   "metadata": {
    "executionInfo": {
     "elapsed": 13435,
     "status": "ok",
     "timestamp": 1748187482322,
     "user": {
      "displayName": "Tamanna Kumari",
      "userId": "01952186296851878699"
     },
     "user_tz": -330
    },
    "id": "DzI0_iA99iTp"
   },
   "outputs": [],
   "source": [
    "import torch\n",
    "import torch.nn as nn\n",
    "import torch.optim as optim\n",
    "from torchvision import datasets, transforms, utils\n",
    "from torch.utils.data import DataLoader\n",
    "import matplotlib.pyplot as plt\n",
    "import numpy as np"
   ]
  },
  {
   "cell_type": "code",
   "execution_count": 3,
   "metadata": {
    "colab": {
     "base_uri": "https://localhost:8080/"
    },
    "executionInfo": {
     "elapsed": 7,
     "status": "ok",
     "timestamp": 1748187482322,
     "user": {
      "displayName": "Tamanna Kumari",
      "userId": "01952186296851878699"
     },
     "user_tz": -330
    },
    "id": "soENjV1e97k1",
    "outputId": "358df09d-4e68-434f-bec1-18df4482d64b"
   },
   "outputs": [
    {
     "name": "stdout",
     "output_type": "stream",
     "text": [
      "Using device: cpu\n"
     ]
    }
   ],
   "source": [
    "# Using the GPU if it exists\n",
    "device = torch.device(\"cuda\" if torch.cuda.is_available() else \"cpu\")\n",
    "print(f\"Using device: {device}\")"
   ]
  },
  {
   "cell_type": "code",
   "execution_count": 4,
   "metadata": {
    "colab": {
     "base_uri": "https://localhost:8080/"
    },
    "executionInfo": {
     "elapsed": 11464,
     "status": "ok",
     "timestamp": 1748187493783,
     "user": {
      "displayName": "Tamanna Kumari",
      "userId": "01952186296851878699"
     },
     "user_tz": -330
    },
    "id": "7zN4rFqQ_mai",
    "outputId": "c5d758f0-0c15-444b-c7c4-28cc58c52dda"
   },
   "outputs": [
    {
     "name": "stderr",
     "output_type": "stream",
     "text": [
      "100.0%\n"
     ]
    },
    {
     "name": "stdout",
     "output_type": "stream",
     "text": [
      "torch.Size([64, 3, 32, 32])\n"
     ]
    }
   ],
   "source": [
    "pipe = transforms.Compose([\n",
    "    transforms.RandomHorizontalFlip(),\n",
    "    transforms.ToTensor(),\n",
    "    transforms.Normalize((0.5, 0.5, 0.5), (0.5, 0.5, 0.5))\n",
    "])\n",
    "\n",
    "train_set = datasets.CIFAR100(root='./data', train=True, download=True, transform=pipe)\n",
    "test_set  = datasets.CIFAR100(root='./data', train=False, download=True, transform=pipe)\n",
    "\n",
    "train_loader = DataLoader(train_set, batch_size=64, shuffle=True)\n",
    "test_loader  = DataLoader(test_set,  batch_size=1000, shuffle=False)\n",
    "\n",
    "for batch_x, batch_y in train_loader:\n",
    "    print(batch_x.shape)\n",
    "    break\n"
   ]
  },
  {
   "cell_type": "code",
   "execution_count": 5,
   "metadata": {
    "executionInfo": {
     "elapsed": 508,
     "status": "ok",
     "timestamp": 1748187689551,
     "user": {
      "displayName": "Tamanna Kumari",
      "userId": "01952186296851878699"
     },
     "user_tz": -330
    },
    "id": "4fMzm2nDADi1"
   },
   "outputs": [],
   "source": [
    "class CustomCNN(nn.Module):\n",
    "    def __init__(self):\n",
    "        super(CustomCNN, self).__init__()\n",
    "        # First convolutional sequence\n",
    "        self.conv_block1 = nn.Sequential(\n",
    "            nn.Conv2d(in_channels=3, out_channels=32, kernel_size=3, padding=1),\n",
    "            nn.BatchNorm2d(32),\n",
    "            nn.ReLU(),\n",
    "            nn.MaxPool2d(kernel_size=2, stride=2)\n",
    "        )\n",
    "        # Second convolutional sequence\n",
    "        self.conv_block2 = nn.Sequential(\n",
    "            nn.Conv2d(32, 64, 3, padding=1),\n",
    "            nn.BatchNorm2d(64),\n",
    "            nn.ReLU(),\n",
    "            nn.MaxPool2d(2, 2)\n",
    "        )\n",
    "        # Dropout for regularization\n",
    "        self.dropout_layer = nn.Dropout(p=0.5)\n",
    "        # Prepare to flatten feature maps\n",
    "        self.flatten_layer = nn.Flatten()\n",
    "        # Fully connected layers\n",
    "        self.fc1 = nn.Linear(64 * 8 * 8, 512)\n",
    "        self.fc2 = nn.Linear(512, 256)\n",
    "        self.output_layer = nn.Linear(256, 100)\n",
    "\n",
    "    def forward(self, x):\n",
    "        x = self.conv_block1(x)         # 3×32×32 → 32×16×16\n",
    "        x = self.conv_block2(x)         # 32×16×16 → 64×8×8\n",
    "        x = self.dropout_layer(x)\n",
    "        x = self.flatten_layer(x)       # 64×8×8 → (batch, 4096)\n",
    "        x = nn.ReLU()(self.fc1(x))\n",
    "        x = nn.ReLU()(self.fc2(x))\n",
    "        return self.output_layer(x)     # (batch, 100)\n"
   ]
  },
  {
   "cell_type": "code",
   "execution_count": 8,
   "metadata": {
    "colab": {
     "base_uri": "https://localhost:8080/",
     "height": 280
    },
    "executionInfo": {
     "elapsed": 8,
     "status": "ok",
     "timestamp": 1748187693863,
     "user": {
      "displayName": "Tamanna Kumari",
      "userId": "01952186296851878699"
     },
     "user_tz": -330
    },
    "id": "gG-FtL1YKuK4",
    "outputId": "4f791231-a7bf-453f-f3db-c5fecfef134a"
   },
   "outputs": [
    {
     "name": "stderr",
     "output_type": "stream",
     "text": [
      "Clipping input data to the valid range for imshow with RGB data ([0..1] for floats or [0..255] for integers). Got range [-0.8117647..1.0].\n",
      "Clipping input data to the valid range for imshow with RGB data ([0..1] for floats or [0..255] for integers). Got range [-0.9607843..1.0].\n",
      "Clipping input data to the valid range for imshow with RGB data ([0..1] for floats or [0..255] for integers). Got range [-0.47450978..1.0].\n",
      "Clipping input data to the valid range for imshow with RGB data ([0..1] for floats or [0..255] for integers). Got range [-1.0..0.90588236].\n",
      "Clipping input data to the valid range for imshow with RGB data ([0..1] for floats or [0..255] for integers). Got range [-0.9529412..1.0].\n"
     ]
    },
    {
     "data": {
      "image/png": "[encoded data removed]",
      "text/plain": [
       "<Figure size 1000x200 with 5 Axes>"
      ]
     },
     "metadata": {},
     "output_type": "display_data"
    }
   ],
   "source": [
    "# Retrieve class labels\n",
    "labels_list = train_set.classes\n",
    "\n",
    "# Visualize five sample images\n",
    "plt.figure(figsize=(10, 2))\n",
    "for idx in range(5):\n",
    "    img, lbl = train_set[idx + 9]\n",
    "    # Change tensor from [C, H, W] to [H, W, C]\n",
    "    img = img.permute(1, 2, 0)\n",
    "\n",
    "    plt.subplot(1, 5, idx + 1)\n",
    "    plt.imshow(img)\n",
    "    plt.title(labels_list[lbl], fontsize=8)\n",
    "    plt.axis('off')\n",
    "\n",
    "plt.tight_layout()\n",
    "plt.show()\n"
   ]
  },
  {
   "cell_type": "code",
   "execution_count": 9,
   "metadata": {
    "executionInfo": {
     "elapsed": 4,
     "status": "ok",
     "timestamp": 1748187700070,
     "user": {
      "displayName": "Tamanna Kumari",
      "userId": "01952186296851878699"
     },
     "user_tz": -330
    },
    "id": "a8ehvQjmFMqZ"
   },
   "outputs": [],
   "source": [
    "def run_training(model, data_loader, optim, criterion, num_epochs=5):\n",
    "    model.train()\n",
    "    for epoch in range(1, num_epochs + 1):\n",
    "        epoch_loss = 0.0\n",
    "        for inputs, targets in data_loader:\n",
    "            inputs, targets = inputs.to(device), targets.to(device)\n",
    "            optim.zero_grad()\n",
    "            outputs = model(inputs)\n",
    "            loss = criterion(outputs, targets)\n",
    "            loss.backward()\n",
    "            optim.step()\n",
    "            epoch_loss += loss.item()\n",
    "        print(f\"Epoch {epoch}/{num_epochs} — Total Loss: {epoch_loss:.4f}\")\n",
    "\n",
    "def evaluate(model, data_loader):\n",
    "    model.eval()\n",
    "    correct_preds = 0\n",
    "    total_samples = 0\n",
    "    with torch.no_grad():\n",
    "        for inputs, targets in data_loader:\n",
    "            inputs, targets = inputs.to(device), targets.to(device)\n",
    "            outputs = model(inputs)\n",
    "            preds = outputs.argmax(dim=1)\n",
    "            correct_preds += (preds == targets).sum().item()\n",
    "            total_samples += targets.size(0)\n",
    "    accuracy = 100.0 * correct_preds / total_samples\n",
    "    print(f\"Test Accuracy: {accuracy:.2f}%\")\n"
   ]
  },
  {
   "cell_type": "code",
   "execution_count": 11,
   "metadata": {
    "colab": {
     "base_uri": "https://localhost:8080/"
    },
    "id": "xZzDLyq2Q3hR",
    "outputId": "148cefaa-a33c-449a-8b7d-73cab3c6e47c"
   },
   "outputs": [
    {
     "name": "stdout",
     "output_type": "stream",
     "text": [
      "Epoch 1/10 — Total Loss: 2737.9443\n",
      "Epoch 2/10 — Total Loss: 2231.3488\n",
      "Epoch 3/10 — Total Loss: 2018.4420\n",
      "Epoch 4/10 — Total Loss: 1870.5283\n",
      "Epoch 5/10 — Total Loss: 1768.1482\n",
      "Epoch 6/10 — Total Loss: 1684.2080\n",
      "Epoch 7/10 — Total Loss: 1618.7659\n",
      "Epoch 8/10 — Total Loss: 1553.7153\n",
      "Epoch 9/10 — Total Loss: 1499.8395\n",
      "Epoch 10/10 — Total Loss: 1456.3587\n",
      "Test Accuracy: 45.25%\n"
     ]
    }
   ],
   "source": [
    "# Instantiate and move model to device\n",
    "net = CustomCNN().to(device)\n",
    "\n",
    "# Set up optimizer and loss criterion\n",
    "opt = optim.Adam(net.parameters(), lr=1e-3)\n",
    "criterion = nn.CrossEntropyLoss()\n",
    "\n",
    "# Train for 10 epochs\n",
    "run_training(net, train_loader, opt, criterion, num_epochs=10)\n",
    "\n",
    "# Evaluate on the test set\n",
    "evaluate(net, test_loader)\n"
   ]
  },
  {
   "cell_type": "code",
   "execution_count": 15,
   "metadata": {
    "colab": {
     "base_uri": "https://localhost:8080/"
    },
    "executionInfo": {
     "elapsed": 2182013,
     "status": "ok",
     "timestamp": 1748181135022,
     "user": {
      "displayName": "Tamanna Kumari",
      "userId": "01952186296851878699"
     },
     "user_tz": -330
    },
    "id": "_m8e_d7aldMM",
    "outputId": "c97c5e2f-6f3e-4869-b29e-da30e8ae5419"
   },
   "outputs": [
    {
     "name": "stdout",
     "output_type": "stream",
     "text": [
      "Epoch 1/10 — Total Loss: 2758.6918\n",
      "Epoch 2/10 — Total Loss: 2232.9110\n",
      "Epoch 3/10 — Total Loss: 2008.1753\n",
      "Epoch 4/10 — Total Loss: 1875.8271\n",
      "Epoch 5/10 — Total Loss: 1781.3853\n",
      "Epoch 6/10 — Total Loss: 1699.4453\n",
      "Epoch 7/10 — Total Loss: 1637.8323\n",
      "Epoch 8/10 — Total Loss: 1572.6105\n",
      "Epoch 9/10 — Total Loss: 1529.7073\n",
      "Epoch 10/10 — Total Loss: 1481.2394\n",
      "Test Accuracy: 45.14%\n"
     ]
    },
    {
     "data": {
      "image/png": "[encoded data removed]",
      "text/plain": [
       "<Figure size 1000x200 with 5 Axes>"
      ]
     },
     "metadata": {},
     "output_type": "display_data"
    }
   ],
   "source": [
    "model     = CustomCNN().to(device)\n",
    "optimizer = optim.Adam(model.parameters(), lr=1e-3)\n",
    "loss_fn   = nn.CrossEntropyLoss()\n",
    "\n",
    "\n",
    "# 1) Fit the network for 10 epochs\n",
    "run_training(model, train_loader, optimizer, loss_fn, num_epochs=10)\n",
    "# 2) Evaluate its performance on the test split\n",
    "evaluate(model, test_loader)  # you may still see low accuracy\n",
    "\n",
    "# 3) Utility to display a few test samples side‑by‑side with predictions\n",
    "def plot_predictions(net, loader, num_samples: int = 5):\n",
    "    net.eval()\n",
    "    # grab one batch\n",
    "    imgs, lbls = next(iter(loader))\n",
    "    imgs, lbls = imgs.to(device), lbls.to(device)\n",
    "\n",
    "    with torch.no_grad():\n",
    "        outs = net(imgs)\n",
    "        preds = outs.argmax(dim=1)\n",
    "\n",
    "    plt.figure(figsize=(10, 2))\n",
    "    for i in range(num_samples):\n",
    "        # undo normalization and convert to H×W×C\n",
    "        img = imgs[i].cpu().permute(1, 2, 0).numpy()\n",
    "        img = img * 0.5 + 0.5\n",
    "        plt.subplot(1, num_samples, i + 1)\n",
    "        plt.imshow(img)\n",
    "        plt.title(f\"P: {labels_list[preds[i]]}\\nT: {labels_list[lbls[i]]}\", fontsize=8)\n",
    "        plt.axis('off')\n",
    "    plt.tight_layout()\n",
    "    plt.show()\n",
    "\n",
    "# 4) Plot five examples\n",
    "plot_predictions(model, test_loader, num_samples=5)\n"
   ]
  }
 ],
 "metadata": {
  "colab": {
   "authorship_tag": "ABX9TyPo2iAqfFBeVO3CKwIy2Ep7",
   "provenance": []
  },
  "kernelspec": {
   "display_name": "Python 3",
   "language": "python",
   "name": "python3"
  },
  "language_info": {
   "codemirror_mode": {
    "name": "ipython",
    "version": 3
   },
   "file_extension": ".py",
   "mimetype": "text/x-python",
   "name": "python",
   "nbconvert_exporter": "python",
   "pygments_lexer": "ipython3",
   "version": "3.13.0"
  }
 },
 "nbformat": 4,
 "nbformat_minor": 0
}
